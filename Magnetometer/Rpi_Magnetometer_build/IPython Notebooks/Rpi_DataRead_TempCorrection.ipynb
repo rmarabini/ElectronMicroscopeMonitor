{
 "cells": [
  {
   "cell_type": "markdown",
   "metadata": {},
   "source": [
    "# Introduction"
   ]
  },
  {
   "cell_type": "markdown",
   "metadata": {},
   "source": [
    "This is a tutorial sheet to load in some data from the Raspberry Pi (RPi) magnetometer, compare it to data from a recording sysatem at a BGS observatory and then apply a temperature correction to the RPi data.\n",
    "\n",
    "The magnetic field measured by the RPi sensors is strongly affected by changes in temperature - about 2-4 nanoTesla per degree. If the RPi magnetometer is running in a room without temperature control (e.g. no air conditioning or heating), or sitting on a window ledge in the open sun, then the data recorded will contains information about changes of the Earth's magnetic field (good) but also the effect of the sensors themselves warming or cooling over the day (bad).\n",
    "\n",
    "In this sheet, a set of Raspberry Pi data were recorded in Edinburgh on the 29-Aug-2015 in an open room, with sunlight shining on the sensor from around 13.00--19.00. This caused a rise in temperature of around 10 degrees C during the day. \n",
    "\n",
    "In Eskdalemuir Observatory in the Scottish Borders about 100 km south of the Raspberry Pi sensor in Edinburgh, data were recorded on the BGS GDAS data. The Eskdalemuir sensor sits in a temperature-controlled underground vault where the variation is less than 0.1 degrees over a day. \n",
    "\n",
    "As we compare the datasets we see there is a large difference in the middle of the afternoon. Note though that we do expect  small differences to arise between the two sensors because they are sited in different locations anyway. \n",
    "\n",
    "--------\n",
    "\n",
    "Notebook Author: Ciaran Beggan [ciar@bgs.ac.uk]\n",
    "\n",
    "Date created: 02-Sep-2015\n",
    "\n",
    "Date last modified: 16-Sep-2015\n",
    "\n",
    "v0: Initial tutorial\n",
    "\n",
    "-------"
   ]
  },
  {
   "cell_type": "markdown",
   "metadata": {},
   "source": [
    "## Initialise the Notebook - load useful modules"
   ]
  },
  {
   "cell_type": "code",
   "execution_count": 17,
   "metadata": {
    "collapsed": false
   },
   "outputs": [],
   "source": [
    "import sys\n",
    "import pandas as pd\n",
    "import os.path as pth\n",
    "from datetime import datetime\n",
    "import numpy as np\n",
    "%matplotlib inline\n",
    "import matplotlib.pyplot as plt\n"
   ]
  },
  {
   "cell_type": "markdown",
   "metadata": {},
   "source": [
    "## RPi: Load data and plot Horizontal component"
   ]
  },
  {
   "cell_type": "markdown",
   "metadata": {},
   "source": [
    "The Raspberry Pi sensor does not record a magnetic field value every one second, rather it averages around five seconds worth of data samples and then timestamps the data as they are written to the output file. This means the data have an irregular timestamp."
   ]
  },
  {
   "cell_type": "markdown",
   "metadata": {},
   "source": [
    "Plot out the Horizontal variation of $H = \\sqrt(X^2 + Y^2)$ of the Raspberry Pi data. The 29-Aug-2015 was a relatively active data geomagnetically speaking with a large slow change of around 80 nT between 09:00 and 20:00. \n",
    "\n",
    "There are also more rapid variations over several minutes to hours. These are typically caused by <i> magnetospheric pulsations </i> or <i>auroral electrojet activity</i> at higher latitudes."
   ]
  },
  {
   "cell_type": "code",
   "execution_count": 18,
   "metadata": {
    "collapsed": false
   },
   "outputs": [
    {
     "data": {
      "text/html": [
       "<div>\n",
       "<table border=\"1\" class=\"dataframe\">\n",
       "  <thead>\n",
       "    <tr style=\"text-align: right;\">\n",
       "      <th></th>\n",
       "      <th>x</th>\n",
       "      <th>y</th>\n",
       "      <th>z</th>\n",
       "      <th>f</th>\n",
       "      <th>temperature</th>\n",
       "    </tr>\n",
       "    <tr>\n",
       "      <th>datetime</th>\n",
       "      <th></th>\n",
       "      <th></th>\n",
       "      <th></th>\n",
       "      <th></th>\n",
       "      <th></th>\n",
       "    </tr>\n",
       "  </thead>\n",
       "  <tbody>\n",
       "    <tr>\n",
       "      <th>2015-08-29 00:00:08</th>\n",
       "      <td>0</td>\n",
       "      <td>16933.94</td>\n",
       "      <td>44433.83</td>\n",
       "      <td>47551.28</td>\n",
       "      <td>21.15</td>\n",
       "    </tr>\n",
       "    <tr>\n",
       "      <th>2015-08-29 00:00:16</th>\n",
       "      <td>0</td>\n",
       "      <td>16933.70</td>\n",
       "      <td>44434.31</td>\n",
       "      <td>47551.64</td>\n",
       "      <td>21.19</td>\n",
       "    </tr>\n",
       "    <tr>\n",
       "      <th>2015-08-29 00:00:24</th>\n",
       "      <td>0</td>\n",
       "      <td>16934.18</td>\n",
       "      <td>44433.59</td>\n",
       "      <td>47551.14</td>\n",
       "      <td>21.16</td>\n",
       "    </tr>\n",
       "    <tr>\n",
       "      <th>2015-08-29 00:00:32</th>\n",
       "      <td>0</td>\n",
       "      <td>16934.89</td>\n",
       "      <td>44434.07</td>\n",
       "      <td>47551.84</td>\n",
       "      <td>21.17</td>\n",
       "    </tr>\n",
       "    <tr>\n",
       "      <th>2015-08-29 00:00:40</th>\n",
       "      <td>0</td>\n",
       "      <td>16934.18</td>\n",
       "      <td>44434.31</td>\n",
       "      <td>47551.81</td>\n",
       "      <td>21.13</td>\n",
       "    </tr>\n",
       "    <tr>\n",
       "      <th>2015-08-29 00:00:48</th>\n",
       "      <td>0</td>\n",
       "      <td>16934.66</td>\n",
       "      <td>44434.79</td>\n",
       "      <td>47552.42</td>\n",
       "      <td>21.14</td>\n",
       "    </tr>\n",
       "    <tr>\n",
       "      <th>2015-08-29 00:00:55</th>\n",
       "      <td>0</td>\n",
       "      <td>16934.66</td>\n",
       "      <td>44435.51</td>\n",
       "      <td>47553.09</td>\n",
       "      <td>21.12</td>\n",
       "    </tr>\n",
       "    <tr>\n",
       "      <th>2015-08-29 00:01:03</th>\n",
       "      <td>0</td>\n",
       "      <td>16935.13</td>\n",
       "      <td>44434.79</td>\n",
       "      <td>47552.59</td>\n",
       "      <td>21.13</td>\n",
       "    </tr>\n",
       "    <tr>\n",
       "      <th>2015-08-29 00:01:11</th>\n",
       "      <td>0</td>\n",
       "      <td>16934.89</td>\n",
       "      <td>44435.03</td>\n",
       "      <td>47552.73</td>\n",
       "      <td>21.13</td>\n",
       "    </tr>\n",
       "  </tbody>\n",
       "</table>\n",
       "</div>"
      ],
      "text/plain": [
       "                     x         y         z         f  temperature\n",
       "datetime                                                         \n",
       "2015-08-29 00:00:08  0  16933.94  44433.83  47551.28        21.15\n",
       "2015-08-29 00:00:16  0  16933.70  44434.31  47551.64        21.19\n",
       "2015-08-29 00:00:24  0  16934.18  44433.59  47551.14        21.16\n",
       "2015-08-29 00:00:32  0  16934.89  44434.07  47551.84        21.17\n",
       "2015-08-29 00:00:40  0  16934.18  44434.31  47551.81        21.13\n",
       "2015-08-29 00:00:48  0  16934.66  44434.79  47552.42        21.14\n",
       "2015-08-29 00:00:55  0  16934.66  44435.51  47553.09        21.12\n",
       "2015-08-29 00:01:03  0  16935.13  44434.79  47552.59        21.13\n",
       "2015-08-29 00:01:11  0  16934.89  44435.03  47552.73        21.13"
      ]
     },
     "execution_count": 18,
     "metadata": {},
     "output_type": "execute_result"
    }
   ],
   "source": [
    "DATA_DIR =r'.'\n",
    "DATA_FILENAME = 'MagData_29_Aug_2015.dat'\n",
    "\n",
    "''' The RPi data file contains 11 columns. The first six are the time units (year, month, day, hour, minute, second)\n",
    "the next three (X,Y,Z) are the orthogonal components of the magnetic field in SI units of nanoTesla (nT).\n",
    "The tenth column is the computed total field strength (F) in nanoTesla and the final column is the temperature in degrees Celsuis '''\n",
    "\n",
    "DATA_COL_NAMES = ['year', 'month', 'day', 'hour', 'minute', 'second', 'x', 'y', 'z', 'f', 'temperature']\n",
    "TIME_COLS = ['year', 'month', 'day', 'hour', 'minute', 'second']  \n",
    "data_file = pth.join(DATA_DIR, DATA_FILENAME)\n",
    "\n",
    "# Define a small function to turn the six time columns into the Python 'datetime' number\n",
    "def minutely_date_parser(year, month, day, hour, minute, second):\n",
    "    from datetime import datetime\n",
    "    year, month, day, hour, minute, second = [int(x) \n",
    "                     for x in [year, month, day, hour, minute, second]]\n",
    "    return (datetime(year, month, day, hour, minute, second))\n",
    "\n",
    "# Read in the Rpi data using Comma Separated Value (CSV) in the Pandas module\n",
    "Rpi_data = pd.read_csv(data_file,\n",
    "                   delim_whitespace=True,\n",
    "                   names = DATA_COL_NAMES,                       \n",
    "                   parse_dates={'datetime':TIME_COLS},\n",
    "                   date_parser = minutely_date_parser,\n",
    "                   index_col='datetime')\n",
    "\n",
    "# Display some values from the file\n",
    "Rpi_data[1:10]"
   ]
  },
  {
   "cell_type": "code",
   "execution_count": 19,
   "metadata": {
    "collapsed": false
   },
   "outputs": [
    {
     "data": {
      "text/plain": [
       "<matplotlib.text.Text at 0x10a9ea190>"
      ]
     },
     "execution_count": 19,
     "metadata": {},
     "output_type": "execute_result"
    },
    {
     "data": {
      "image/png": "[encoded data removed]",
      "text/plain": [
       "<matplotlib.figure.Figure at 0x10a651e50>"
      ]
     },
     "metadata": {},
     "output_type": "display_data"
    }
   ],
   "source": [
    "Rpi_H = np.sqrt(Rpi_data.x**2 + Rpi_data.y**2)    \n",
    "\n",
    "fig = plt.figure()\n",
    "plt.plot(Rpi_data.index, Rpi_H)\n",
    "plt.ylabel(' Strength [nT]')\n",
    "plt.xlabel('Time')\n",
    "plt.title('RPi Horizontal: 29-Aug-2015')"
   ]
  },
  {
   "cell_type": "markdown",
   "metadata": {},
   "source": [
    "## GDAS: Load data and plot Horizontal component"
   ]
  },
  {
   "cell_type": "markdown",
   "metadata": {},
   "source": [
    "The GDAS (Geomagnetic Data Acquisition System) data comes from the BGS scientific observatory instruments at Eskdalemuir. These instruments operate in temperature controlled environments and record the data in picoTesla (pT), which are very small units of measurement: 1000 pT = 1 nT. The original file format has been converted to match that of the Rpi format above."
   ]
  },
  {
   "cell_type": "code",
   "execution_count": 20,
   "metadata": {
    "collapsed": false
   },
   "outputs": [
    {
     "data": {
      "text/html": [
       "<div>\n",
       "<table border=\"1\" class=\"dataframe\">\n",
       "  <thead>\n",
       "    <tr style=\"text-align: right;\">\n",
       "      <th></th>\n",
       "      <th>h</th>\n",
       "      <th>e</th>\n",
       "      <th>z</th>\n",
       "    </tr>\n",
       "    <tr>\n",
       "      <th>datetime</th>\n",
       "      <th></th>\n",
       "      <th></th>\n",
       "      <th></th>\n",
       "    </tr>\n",
       "  </thead>\n",
       "  <tbody>\n",
       "    <tr>\n",
       "      <th>2015-08-29 00:00:01</th>\n",
       "      <td>38.805</td>\n",
       "      <td>162.142</td>\n",
       "      <td>108.965</td>\n",
       "    </tr>\n",
       "    <tr>\n",
       "      <th>2015-08-29 00:00:02</th>\n",
       "      <td>38.885</td>\n",
       "      <td>162.102</td>\n",
       "      <td>108.965</td>\n",
       "    </tr>\n",
       "    <tr>\n",
       "      <th>2015-08-29 00:00:03</th>\n",
       "      <td>38.805</td>\n",
       "      <td>162.023</td>\n",
       "      <td>108.965</td>\n",
       "    </tr>\n",
       "    <tr>\n",
       "      <th>2015-08-29 00:00:04</th>\n",
       "      <td>38.885</td>\n",
       "      <td>162.023</td>\n",
       "      <td>109.044</td>\n",
       "    </tr>\n",
       "    <tr>\n",
       "      <th>2015-08-29 00:00:05</th>\n",
       "      <td>38.885</td>\n",
       "      <td>162.023</td>\n",
       "      <td>108.965</td>\n",
       "    </tr>\n",
       "    <tr>\n",
       "      <th>2015-08-29 00:00:06</th>\n",
       "      <td>38.925</td>\n",
       "      <td>162.023</td>\n",
       "      <td>108.927</td>\n",
       "    </tr>\n",
       "    <tr>\n",
       "      <th>2015-08-29 00:00:07</th>\n",
       "      <td>39.004</td>\n",
       "      <td>161.983</td>\n",
       "      <td>108.927</td>\n",
       "    </tr>\n",
       "    <tr>\n",
       "      <th>2015-08-29 00:00:08</th>\n",
       "      <td>38.925</td>\n",
       "      <td>161.983</td>\n",
       "      <td>108.927</td>\n",
       "    </tr>\n",
       "    <tr>\n",
       "      <th>2015-08-29 00:00:09</th>\n",
       "      <td>39.004</td>\n",
       "      <td>161.983</td>\n",
       "      <td>108.965</td>\n",
       "    </tr>\n",
       "  </tbody>\n",
       "</table>\n",
       "</div>"
      ],
      "text/plain": [
       "                          h        e        z\n",
       "datetime                                     \n",
       "2015-08-29 00:00:01  38.805  162.142  108.965\n",
       "2015-08-29 00:00:02  38.885  162.102  108.965\n",
       "2015-08-29 00:00:03  38.805  162.023  108.965\n",
       "2015-08-29 00:00:04  38.885  162.023  109.044\n",
       "2015-08-29 00:00:05  38.885  162.023  108.965\n",
       "2015-08-29 00:00:06  38.925  162.023  108.927\n",
       "2015-08-29 00:00:07  39.004  161.983  108.927\n",
       "2015-08-29 00:00:08  38.925  161.983  108.927\n",
       "2015-08-29 00:00:09  39.004  161.983  108.965"
      ]
     },
     "execution_count": 20,
     "metadata": {},
     "output_type": "execute_result"
    }
   ],
   "source": [
    "DATA_DIR =r'.'\n",
    "DATA_FILENAME = 'Esk_29_Aug_2015.dat'\n",
    "\n",
    "''' The GDAS data file contains 9 columns. The first six are the time units (year month day hour minute second)\n",
    "the next three (H,E,Z) are the orthogonal components of the magnetic field in SI units of nanoTesla (nT).'''\n",
    "\n",
    "DATA_COL_NAMES = ['year', 'month', 'day', 'hour', 'minute', 'second', 'h', 'e', 'z']\n",
    "TIME_COLS = ['year', 'month', 'day', 'hour', 'minute', 'second']  \n",
    "data_file = pth.join(DATA_DIR, DATA_FILENAME)\n",
    "\n",
    "# Define a small function to turn the six time columns into the Python 'datetime' number\n",
    "def minutely_date_parser(year, month, day, hour, minute, second):\n",
    "    from datetime import datetime\n",
    "    year, month, day, hour, minute, second = [int(x) \n",
    "                     for x in [year, month, day, hour, minute, second]]\n",
    "    return (datetime(year, month, day, hour, minute, second))\n",
    "\n",
    "# Read in the Rpi data using Comma Separated Value (CSV) in the Pandas module\n",
    "GDAS_data = pd.read_csv(data_file,\n",
    "                   delim_whitespace=True,\n",
    "                   names = DATA_COL_NAMES,                       \n",
    "                   parse_dates={'datetime':TIME_COLS},\n",
    "                   date_parser = minutely_date_parser,\n",
    "                   index_col='datetime')\n",
    "# Display some values from the file\n",
    "GDAS_data[1:10]"
   ]
  },
  {
   "cell_type": "markdown",
   "metadata": {},
   "source": [
    "Plot the Horizontal variation of the GDAS data. Note this is not the full Horizontal component (like that measured with the Rpi) - this is the variation of the horizontal field strength over the day about some arbitrary mean value."
   ]
  },
  {
   "cell_type": "code",
   "execution_count": 21,
   "metadata": {
    "collapsed": false
   },
   "outputs": [
    {
     "data": {
      "text/plain": [
       "<matplotlib.text.Text at 0x10e654290>"
      ]
     },
     "execution_count": 21,
     "metadata": {},
     "output_type": "execute_result"
    },
    {
     "data": {
      "image/png": "[encoded data removed]",
      "text/plain": [
       "<matplotlib.figure.Figure at 0x10aa67790>"
      ]
     },
     "metadata": {},
     "output_type": "display_data"
    }
   ],
   "source": [
    "GDAS_H = (GDAS_data.h)    \n",
    "\n",
    "fig = plt.figure()\n",
    "plt.plot(GDAS_data.index, GDAS_H)\n",
    "plt.ylabel(' Strength [nT]')\n",
    "plt.xlabel('Time')\n",
    "plt.title('GDAS Esk Horizontal: 29-Aug-2015')"
   ]
  },
  {
   "cell_type": "markdown",
   "metadata": {},
   "source": [
    "Oh dear ... at first inspection these datasets are broadly similar but not exactly identical. Note the different size of the peaks for example. Why are they so different? Let's remove the mean value from each dataset and plot them alongside one another on the same graph to see where the discrepancies are."
   ]
  },
  {
   "cell_type": "code",
   "execution_count": 22,
   "metadata": {
    "collapsed": false
   },
   "outputs": [
    {
     "data": {
      "text/plain": [
       "<matplotlib.legend.Legend at 0x10a228bd0>"
      ]
     },
     "execution_count": 22,
     "metadata": {},
     "output_type": "execute_result"
    },
    {
     "data": {
      "image/png": "[encoded data removed]",
      "text/plain": [
       "<matplotlib.figure.Figure at 0x109ca8150>"
      ]
     },
     "metadata": {},
     "output_type": "display_data"
    }
   ],
   "source": [
    "Rpi_H_zm = Rpi_H - np.mean(Rpi_H)\n",
    "GDAS_H_zm = GDAS_H - np.mean(GDAS_H)\n",
    "len(GDAS_H)\n",
    "\n",
    "fig = plt.figure()\n",
    "plt.hold(True)\n",
    "plt.plot(GDAS_data.index, GDAS_H_zm, color='blue', linestyle='none', marker='.',markersize=2)\n",
    "plt.plot(Rpi_data.index, Rpi_H_zm, color='red', linestyle='none', marker='.',markersize=2)\n",
    "         \n",
    "plt.ylabel(' Strength [nT]')\n",
    "plt.xlabel('Time')\n",
    "plt.title('GDAS_H vs Rpi Horizontal: 29-Aug-2015')\n",
    "plt.legend(['GDAS', 'RPi'], loc=2)"
   ]
  },
  {
   "cell_type": "markdown",
   "metadata": {},
   "source": [
    "The red line is clearly above the blue line during the afternoon period of the day. Now, let's plot out the temperature recorded by the sensor to see if there is any correlation with the <i> difference </i> between the Raspberry Pi data and the Eskdalemuir data.\n",
    "\n",
    "To plot the difference between Eskdalemuir and the Raspberry Pi data, we wil have to interpolate the Eskdalemuir measurements to the same time points as the Raspberry Pi data. Use the numpy resample function to do this."
   ]
  },
  {
   "cell_type": "code",
   "execution_count": 23,
   "metadata": {
    "collapsed": false
   },
   "outputs": [],
   "source": [
    "# Compute the Differences between Raspberry Pi and Eskdalemuir data by interpolation of the ESK data onto the RPi time points\n",
    "Rpi_data_sec = Rpi_data.resample('S', fill_method='bfill', how='last')\n",
    "Rpi_data_sec_H = np.sqrt(Rpi_data_sec.x**2 + Rpi_data_sec.y**2)    \n",
    "#Take the GDAS data from the Rpi data - this will be negative mostly\n",
    "Rpi_data_sec_H_zm =  Rpi_data_sec_H - np.mean(Rpi_data_sec_H)  \n",
    "H_diff =  GDAS_H_zm -   Rpi_data_sec_H_zm\n"
   ]
  },
  {
   "cell_type": "code",
   "execution_count": 30,
   "metadata": {
    "collapsed": false
   },
   "outputs": [
    {
     "data": {
      "text/plain": [
       "<matplotlib.legend.Legend at 0x10aea99d0>"
      ]
     },
     "execution_count": 30,
     "metadata": {},
     "output_type": "execute_result"
    },
    {
     "data": {
      "image/png": "[encoded data removed]",
      "text/plain": [
       "<matplotlib.figure.Figure at 0x10aa67f50>"
      ]
     },
     "metadata": {},
     "output_type": "display_data"
    }
   ],
   "source": [
    "plt.plot(Rpi_data_sec.index, Rpi_data_sec.temperature, color='gray', linestyle='none', marker='.',markersize=2)\n",
    "plt.hold(True)\n",
    "plt.plot(Rpi_data_sec.index, H_diff[0:len(Rpi_data_sec.index)], color='black', linestyle='none', marker='.',markersize=2)\n",
    "plt.ylabel(' Temperature [$^\\circ$C] / Difference [nT]')\n",
    "plt.xlabel('Time')\n",
    "plt.title('Data: 29-Aug-2015')\n",
    "plt.legend(['Temperature', 'H Diff'], loc=3)\n"
   ]
  },
  {
   "cell_type": "markdown",
   "metadata": {},
   "source": [
    "There is clearly a correlation between the difference in the magnetic field measurements (black line) and the temperature (gray line). In the early part of the day (00:00 to 12:00) the temperature is fairly stable and the variation of the black line is small - a few nanoTesla. This is a real difference between the magnetic field at both locations. However as the temperature rises in the afternoon, the difference between the two sensors changes rapidly, as the Raspberry Pi sensor is heated by the sun shining on it. \n",
    "\n",
    "<i>We want to remove this effect! </i> To do this we can use regression analysis to work out the effect of the temperature change on the size of the magnetic field recorded. In essence we are looking to 'back out' the effect of the temperature variations."
   ]
  },
  {
   "cell_type": "markdown",
   "metadata": {},
   "source": [
    "## Temperature correction"
   ]
  },
  {
   "cell_type": "markdown",
   "metadata": {},
   "source": [
    "In this part of the analysis we are going to figure out the scaling factors and offset that are required to remove the temperature effect in the magnetic data recorded by the Raspberry Pi. Rather than working with the values of the H component itself, we are going to use the difference between the Raspberry Pi and the GDAS system to figure out what the Raspberry Pi <i>should have recorded</i> compared to what it did record. We assume that the Raspberry Pi data should look quite similar to the GDAS sensor data and that the gross differences are due to the temperature. \n",
    "\n",
    "We will use the tried-and-tested method of linear algebra least square matrix inversion to do this. In effect we will be solving a large set of simultaneous equations relating thr temperature changes to the magnetic field changes. \n",
    "\n",
    "We need to make a few assumptions: (1) Let us assume that the temperature changes affect the system in a <i>non-linear</i> way, meaning that we should solve for an offset (in nanoTesla) between the RPi and the GDAS data, a linear scaling factor (i.e. change of the Rpi data in nanoTesla for every degree temperature rise) and a second-order scaling factor (i.e. the change in nanoTesla squared per degree squared). \n",
    "\n",
    "These three factors should give us a way to 'regress' the measured data (from the Rpi) back onto the expected data measured by the GDAS system to give a much better match between the datasets.\n",
    "\n",
    "We are going to solve the following equation (shown in matrix notation below): difference in H is equal to  temperature times the scale offset factors  \n",
    "                                        \n",
    "                                        d    =   A . x\n",
    "                                        \n",
    "                                        x = inv(A) . d\n",
    "\n",
    "First we compute the temperature variation over the day by removing the smallest recorded value."
   ]
  },
  {
   "cell_type": "code",
   "execution_count": 25,
   "metadata": {
    "collapsed": false
   },
   "outputs": [],
   "source": [
    "Temp_rm = Rpi_data_sec.temperature - np.mean(Rpi_data_sec.temperature)\n",
    "temp_nomean = Temp_rm.values\n",
    "\n"
   ]
  },
  {
   "cell_type": "markdown",
   "metadata": {},
   "source": [
    "Next we create a matrix a that relates the change in temperature to the differences between the H values of the two sensors. The matrix <b>A</b> contains 3 columns and around 86400 rows (86400 = number of seconds per day), depending on the timestamps of the data recorded by the Raspberry Pi.\n",
    "\n",
    "The matrix  <b>A</b> contains two columns using the temperature variation values for the relation between temperature and magnetic field differences and a third column of '1's to represent the fixed offset.\n",
    "\n",
    "A column vector <b>d</b> contains the values of the differences between the GDAS and Raspberry Pi H measurements.\n",
    "\n",
    "Finally we transpose the  <b>A</b> matrix and use the numpy linear algebra least squares function (np.linalg.lstsq) to solve the matrix inversion equation get a set of arrays in  <b>x</b>. The first array contains the values of interest to us - these are printed out."
   ]
  },
  {
   "cell_type": "code",
   "execution_count": 26,
   "metadata": {
    "collapsed": false
   },
   "outputs": [
    {
     "name": "stdout",
     "output_type": "stream",
     "text": [
      "   Correction coefficients [in nT]    \n",
      "  2nd Order      Linear     Offset\n",
      "[-0.49559117 -2.15532366  4.38630266]\n"
     ]
    }
   ],
   "source": [
    "A = np.array([temp_nomean**2, temp_nomean, np.ones(len(temp_nomean ))])\n",
    "d = np.transpose(H_diff.values[0:len(temp_nomean)])\n",
    "x = np.linalg.lstsq(np.transpose(A), d)\n",
    "\n",
    "sc_off = x[0]   # Store the first array from x - offset and scaling coefficients \n",
    "\n",
    "print '   Correction coefficients [in nT]    '\n",
    "print '  2nd Order      Linear     Offset'\n",
    "print sc_off\n"
   ]
  },
  {
   "cell_type": "markdown",
   "metadata": {},
   "source": [
    "For this particular day, the offset is 4.386 nT - meaning that the Rpi data is too low (on average) by 4.386 nT. We can add this straight onto the Raspberry Pi data. The next factor of -2.155 means we should multiply each point in the temperature variation curve by -2.155 and add it to the Raspberry Pi data. This is the linear factor (or coefficient). Finally the coefficient of -0.495 is a squared factor, so we multiply the temperature variation squared by this number. \n",
    "\n",
    "Let us put that into a new equation and plot out the results of the GDAS data, the measured Raspberry Pi data and the corrected Raspberry Pi data with the temperature correction."
   ]
  },
  {
   "cell_type": "code",
   "execution_count": 27,
   "metadata": {
    "collapsed": false
   },
   "outputs": [
    {
     "data": {
      "text/plain": [
       "<matplotlib.text.Text at 0x10dec93d0>"
      ]
     },
     "execution_count": 27,
     "metadata": {},
     "output_type": "execute_result"
    },
    {
     "data": {
      "image/png": "[encoded data removed]",
      "text/plain": [
       "<matplotlib.figure.Figure at 0x10e6a1f50>"
      ]
     },
     "metadata": {},
     "output_type": "display_data"
    }
   ],
   "source": [
    "Rpi_H_corrected = Rpi_data_sec_H_zm  + sc_off[0]*(temp_nomean)**2 + sc_off[1]*(temp_nomean) + sc_off[2]\n",
    "\n",
    "fig = plt.figure(10)\n",
    "plt.hold(True)\n",
    "plt.plot(Rpi_data_sec.index, Rpi_data_sec_H_zm, color='black', linestyle='none', marker='.',markersize=2)\n",
    "plt.plot(GDAS_data.index, GDAS_H_zm, color='blue', linestyle='none', marker='.',markersize=2)\n",
    "\n",
    "plt.plot(Rpi_data_sec.index, Rpi_H_corrected, color='green', linestyle='none', marker='.',markersize=2)\n",
    "         \n",
    "plt.legend(['RPi H', 'GDAS H', 'Corrected RPi H'], loc=2)\n",
    "plt.xlabel('Time')\n",
    "plt.ylabel('[nT]')\n",
    "plt.title('Temperature Corrected RPi data: 29-Aug-2015')\n"
   ]
  },
  {
   "cell_type": "markdown",
   "metadata": {},
   "source": [
    "The black dots show the starting Raspberry Pi measurements, the blue line is the data from the GDAS system. The green curve is the Raspberry Pi data with the effects of temperature removed using the inversion code.\n",
    "\n"
   ]
  },
  {
   "cell_type": "markdown",
   "metadata": {},
   "source": [
    "## Disucssion & Conclusion"
   ]
  },
  {
   "cell_type": "markdown",
   "metadata": {},
   "source": [
    "As you can see the green data now align much better than black data with the blue curve, so we have achieved our aim of removing the temperature effects in the data. \n",
    "\n",
    "A few things to note are that the temperature correction does have a fairly significant non-linear term (-0.5 nT^2/degree) and a large linear term (-2.15 nT/degree). The offset is arbitrary and will change from day to day. Note that although we have corrected for the temperature changes over the day mathematically, in reality, it is far better not to let the temperature vary. This is because we have still only <i>approximately</i> corrected for the temperature effect, but not exactly. Depending on the application, this correction may well be 'good enough'. However, in general, it is better to control as many factors as you can while you record your data rather than trying to remove them <i>post-hoc</i>.\n",
    "\n",
    "\n",
    "-----\n",
    "This sheet has demonstrated how to load in and visualise the two different datasets, how to resample the lower time resolution dataset onto a higher time resolution and then compute the difference between the datasets. Having computed the difference between the GDAS and Raspberry Pi datasets, we compared it to the temperature recorded and assumed that the large scale differences over the day were due to temperature variation. We then solved the least-square inversion to find scaling and offset coefficients that best matched the difference data. We used these coefficients to remove the temperature effect in the Raspberry Pi data. "
   ]
  },
  {
   "cell_type": "code",
   "execution_count": null,
   "metadata": {
    "collapsed": false
   },
   "outputs": [],
   "source": []
  }
 ],
 "metadata": {
  "kernelspec": {
   "display_name": "Python 2",
   "language": "python",
   "name": "python2"
  },
  "language_info": {
   "codemirror_mode": {
    "name": "ipython",
    "version": 2
   },
   "file_extension": ".py",
   "mimetype": "text/x-python",
   "name": "python",
   "nbconvert_exporter": "python",
   "pygments_lexer": "ipython2",
   "version": "2.7.10"
  }
 },
 "nbformat": 4,
 "nbformat_minor": 0
}
